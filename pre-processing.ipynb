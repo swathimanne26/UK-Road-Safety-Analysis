{
 "cells": [
  {
   "cell_type": "markdown",
   "id": "124f17c9-269b-4a36-b448-b288c51337d4",
   "metadata": {},
   "source": [
    "# Data Wrangling\n",
    "## 1. Load CSV as data frames"
   ]
  },
  {
   "cell_type": "code",
   "execution_count": 2,
   "id": "ba427210-4b40-42e9-a8ad-ad88c45958ef",
   "metadata": {
    "tags": []
   },
   "outputs": [],
   "source": [
    "#Import python libararies\n",
    "import os\n",
    "import datetime\n",
    "import csv\n",
    "import pandas as pd"
   ]
  },
  {
   "cell_type": "code",
   "execution_count": 3,
   "id": "6df9c317-dcf6-4333-b347-eb6fd3b7fe1e",
   "metadata": {
    "tags": []
   },
   "outputs": [],
   "source": [
    "# Set pandas display options for better readability\n",
    "pd.set_option('display.max_rows', 50)\n",
    "pd.set_option('display.max_columns', 100)\n",
    "pd.set_option('display.width', 1000)"
   ]
  },
  {
   "cell_type": "code",
   "execution_count": 4,
   "id": "b8230f58-8513-4ce7-a256-87a36e53303c",
   "metadata": {
    "tags": []
   },
   "outputs": [],
   "source": [
    "# Set raw file paths\n",
    "# Edit the base path depending in local path\n",
    "base_path = '/Users/swathimanne/Documents/carrer_foundry/Final CF'\n",
    "accidents_raw_file = 'Raw Data UK Road Safety/Accident_Information.csv'\n",
    "vehicles_raw_file = 'Raw Data UK Road Safety/Vehicle_Information.csv'"
   ]
  },
  {
   "cell_type": "code",
   "execution_count": 5,
   "id": "2c55ac42-8339-4f61-a78e-c553aec07604",
   "metadata": {
    "tags": []
   },
   "outputs": [],
   "source": [
    "# accidents csv file throws warning on Accident_Ingex having mixed dtypes, so hinting it as str\n",
    "accidents_df = pd.read_csv(os.path.join(base_path, accidents_raw_file), dtype={'Accident_Index': str}, index_col=False)"
   ]
  },
  {
   "cell_type": "code",
   "execution_count": 6,
   "id": "413dab4f-7116-413f-a338-b13780dd9247",
   "metadata": {
    "tags": []
   },
   "outputs": [],
   "source": [
    "# vehicles csv file must have been created using ISO encoding, by default UTF-8 encoding fails to read so explicity hitning to read as ISO-8859-1\n",
    "vehicles_df = pd.read_csv(os.path.join(base_path, vehicles_raw_file), encoding='ISO-8859-1', index_col=False)"
   ]
  },
  {
   "cell_type": "markdown",
   "id": "3b22755c-ad8b-48d0-8fba-0e2515d1fe3e",
   "metadata": {},
   "source": [
    "## 2. Examine Data"
   ]
  },
  {
   "cell_type": "code",
   "execution_count": 7,
   "id": "affaae79-ab09-4276-ba47-bbc7e6a125f6",
   "metadata": {
    "tags": []
   },
   "outputs": [
    {
     "data": {
      "text/plain": [
       "(2047256, 34)"
      ]
     },
     "execution_count": 7,
     "metadata": {},
     "output_type": "execute_result"
    }
   ],
   "source": [
    "# check accidents rows, columns\n",
    "accidents_df.shape"
   ]
  },
  {
   "cell_type": "code",
   "execution_count": 8,
   "id": "14963b5b-5f61-4ac0-a1cf-614159b189cf",
   "metadata": {
    "tags": []
   },
   "outputs": [
    {
     "data": {
      "text/plain": [
       "(2177205, 24)"
      ]
     },
     "execution_count": 8,
     "metadata": {},
     "output_type": "execute_result"
    }
   ],
   "source": [
    "# check vehicles rows, columns\n",
    "vehicles_df.shape"
   ]
  },
  {
   "cell_type": "markdown",
   "id": "d8fe2e6a-0475-4ff0-8c23-6e55aa087824",
   "metadata": {},
   "source": [
    "### [Observation] There seems to be more vehicle records than accidents"
   ]
  },
  {
   "cell_type": "code",
   "execution_count": 9,
   "id": "bc943b85-260f-4ffa-8328-bc368658fe51",
   "metadata": {
    "tags": []
   },
   "outputs": [
    {
     "data": {
      "text/html": [
       "<div>\n",
       "<style scoped>\n",
       "    .dataframe tbody tr th:only-of-type {\n",
       "        vertical-align: middle;\n",
       "    }\n",
       "\n",
       "    .dataframe tbody tr th {\n",
       "        vertical-align: top;\n",
       "    }\n",
       "\n",
       "    .dataframe thead th {\n",
       "        text-align: right;\n",
       "    }\n",
       "</style>\n",
       "<table border=\"1\" class=\"dataframe\">\n",
       "  <thead>\n",
       "    <tr style=\"text-align: right;\">\n",
       "      <th></th>\n",
       "      <th>Accident_Index</th>\n",
       "      <th>1st_Road_Class</th>\n",
       "      <th>1st_Road_Number</th>\n",
       "      <th>2nd_Road_Class</th>\n",
       "      <th>2nd_Road_Number</th>\n",
       "      <th>Accident_Severity</th>\n",
       "      <th>Carriageway_Hazards</th>\n",
       "      <th>Date</th>\n",
       "      <th>Day_of_Week</th>\n",
       "      <th>Did_Police_Officer_Attend_Scene_of_Accident</th>\n",
       "      <th>Junction_Control</th>\n",
       "      <th>Junction_Detail</th>\n",
       "      <th>Latitude</th>\n",
       "      <th>Light_Conditions</th>\n",
       "      <th>Local_Authority_(District)</th>\n",
       "      <th>Local_Authority_(Highway)</th>\n",
       "      <th>Location_Easting_OSGR</th>\n",
       "      <th>Location_Northing_OSGR</th>\n",
       "      <th>Longitude</th>\n",
       "      <th>LSOA_of_Accident_Location</th>\n",
       "      <th>Number_of_Casualties</th>\n",
       "      <th>Number_of_Vehicles</th>\n",
       "      <th>Pedestrian_Crossing-Human_Control</th>\n",
       "      <th>Pedestrian_Crossing-Physical_Facilities</th>\n",
       "      <th>Police_Force</th>\n",
       "      <th>Road_Surface_Conditions</th>\n",
       "      <th>Road_Type</th>\n",
       "      <th>Special_Conditions_at_Site</th>\n",
       "      <th>Speed_limit</th>\n",
       "      <th>Time</th>\n",
       "      <th>Urban_or_Rural_Area</th>\n",
       "      <th>Weather_Conditions</th>\n",
       "      <th>Year</th>\n",
       "      <th>InScotland</th>\n",
       "    </tr>\n",
       "  </thead>\n",
       "  <tbody>\n",
       "    <tr>\n",
       "      <th>0</th>\n",
       "      <td>200501BS00001</td>\n",
       "      <td>A</td>\n",
       "      <td>3218.0</td>\n",
       "      <td>NaN</td>\n",
       "      <td>0.0</td>\n",
       "      <td>Serious</td>\n",
       "      <td>NaN</td>\n",
       "      <td>2005-01-04</td>\n",
       "      <td>Tuesday</td>\n",
       "      <td>1.0</td>\n",
       "      <td>Data missing or out of range</td>\n",
       "      <td>Not at junction or within 20 metres</td>\n",
       "      <td>51.489096</td>\n",
       "      <td>Daylight</td>\n",
       "      <td>Kensington and Chelsea</td>\n",
       "      <td>Kensington and Chelsea</td>\n",
       "      <td>525680.0</td>\n",
       "      <td>178240.0</td>\n",
       "      <td>-0.191170</td>\n",
       "      <td>E01002849</td>\n",
       "      <td>1</td>\n",
       "      <td>1</td>\n",
       "      <td>0.0</td>\n",
       "      <td>1.0</td>\n",
       "      <td>Metropolitan Police</td>\n",
       "      <td>Wet or damp</td>\n",
       "      <td>Single carriageway</td>\n",
       "      <td>NaN</td>\n",
       "      <td>30.0</td>\n",
       "      <td>17:42</td>\n",
       "      <td>Urban</td>\n",
       "      <td>Raining no high winds</td>\n",
       "      <td>2005</td>\n",
       "      <td>No</td>\n",
       "    </tr>\n",
       "    <tr>\n",
       "      <th>1</th>\n",
       "      <td>200501BS00002</td>\n",
       "      <td>B</td>\n",
       "      <td>450.0</td>\n",
       "      <td>C</td>\n",
       "      <td>0.0</td>\n",
       "      <td>Slight</td>\n",
       "      <td>NaN</td>\n",
       "      <td>2005-01-05</td>\n",
       "      <td>Wednesday</td>\n",
       "      <td>1.0</td>\n",
       "      <td>Auto traffic signal</td>\n",
       "      <td>Crossroads</td>\n",
       "      <td>51.520075</td>\n",
       "      <td>Darkness - lights lit</td>\n",
       "      <td>Kensington and Chelsea</td>\n",
       "      <td>Kensington and Chelsea</td>\n",
       "      <td>524170.0</td>\n",
       "      <td>181650.0</td>\n",
       "      <td>-0.211708</td>\n",
       "      <td>E01002909</td>\n",
       "      <td>1</td>\n",
       "      <td>1</td>\n",
       "      <td>0.0</td>\n",
       "      <td>5.0</td>\n",
       "      <td>Metropolitan Police</td>\n",
       "      <td>Dry</td>\n",
       "      <td>Dual carriageway</td>\n",
       "      <td>NaN</td>\n",
       "      <td>30.0</td>\n",
       "      <td>17:36</td>\n",
       "      <td>Urban</td>\n",
       "      <td>Fine no high winds</td>\n",
       "      <td>2005</td>\n",
       "      <td>No</td>\n",
       "    </tr>\n",
       "    <tr>\n",
       "      <th>2</th>\n",
       "      <td>200501BS00003</td>\n",
       "      <td>C</td>\n",
       "      <td>0.0</td>\n",
       "      <td>NaN</td>\n",
       "      <td>0.0</td>\n",
       "      <td>Slight</td>\n",
       "      <td>NaN</td>\n",
       "      <td>2005-01-06</td>\n",
       "      <td>Thursday</td>\n",
       "      <td>1.0</td>\n",
       "      <td>Data missing or out of range</td>\n",
       "      <td>Not at junction or within 20 metres</td>\n",
       "      <td>51.525301</td>\n",
       "      <td>Darkness - lights lit</td>\n",
       "      <td>Kensington and Chelsea</td>\n",
       "      <td>Kensington and Chelsea</td>\n",
       "      <td>524520.0</td>\n",
       "      <td>182240.0</td>\n",
       "      <td>-0.206458</td>\n",
       "      <td>E01002857</td>\n",
       "      <td>1</td>\n",
       "      <td>2</td>\n",
       "      <td>0.0</td>\n",
       "      <td>0.0</td>\n",
       "      <td>Metropolitan Police</td>\n",
       "      <td>Dry</td>\n",
       "      <td>Single carriageway</td>\n",
       "      <td>NaN</td>\n",
       "      <td>30.0</td>\n",
       "      <td>00:15</td>\n",
       "      <td>Urban</td>\n",
       "      <td>Fine no high winds</td>\n",
       "      <td>2005</td>\n",
       "      <td>No</td>\n",
       "    </tr>\n",
       "    <tr>\n",
       "      <th>3</th>\n",
       "      <td>200501BS00004</td>\n",
       "      <td>A</td>\n",
       "      <td>3220.0</td>\n",
       "      <td>NaN</td>\n",
       "      <td>0.0</td>\n",
       "      <td>Slight</td>\n",
       "      <td>NaN</td>\n",
       "      <td>2005-01-07</td>\n",
       "      <td>Friday</td>\n",
       "      <td>1.0</td>\n",
       "      <td>Data missing or out of range</td>\n",
       "      <td>Not at junction or within 20 metres</td>\n",
       "      <td>51.482442</td>\n",
       "      <td>Daylight</td>\n",
       "      <td>Kensington and Chelsea</td>\n",
       "      <td>Kensington and Chelsea</td>\n",
       "      <td>526900.0</td>\n",
       "      <td>177530.0</td>\n",
       "      <td>-0.173862</td>\n",
       "      <td>E01002840</td>\n",
       "      <td>1</td>\n",
       "      <td>1</td>\n",
       "      <td>0.0</td>\n",
       "      <td>0.0</td>\n",
       "      <td>Metropolitan Police</td>\n",
       "      <td>Dry</td>\n",
       "      <td>Single carriageway</td>\n",
       "      <td>NaN</td>\n",
       "      <td>30.0</td>\n",
       "      <td>10:35</td>\n",
       "      <td>Urban</td>\n",
       "      <td>Fine no high winds</td>\n",
       "      <td>2005</td>\n",
       "      <td>No</td>\n",
       "    </tr>\n",
       "    <tr>\n",
       "      <th>4</th>\n",
       "      <td>200501BS00005</td>\n",
       "      <td>Unclassified</td>\n",
       "      <td>0.0</td>\n",
       "      <td>NaN</td>\n",
       "      <td>0.0</td>\n",
       "      <td>Slight</td>\n",
       "      <td>NaN</td>\n",
       "      <td>2005-01-10</td>\n",
       "      <td>Monday</td>\n",
       "      <td>1.0</td>\n",
       "      <td>Data missing or out of range</td>\n",
       "      <td>Not at junction or within 20 metres</td>\n",
       "      <td>51.495752</td>\n",
       "      <td>Darkness - lighting unknown</td>\n",
       "      <td>Kensington and Chelsea</td>\n",
       "      <td>Kensington and Chelsea</td>\n",
       "      <td>528060.0</td>\n",
       "      <td>179040.0</td>\n",
       "      <td>-0.156618</td>\n",
       "      <td>E01002863</td>\n",
       "      <td>1</td>\n",
       "      <td>1</td>\n",
       "      <td>0.0</td>\n",
       "      <td>0.0</td>\n",
       "      <td>Metropolitan Police</td>\n",
       "      <td>Wet or damp</td>\n",
       "      <td>Single carriageway</td>\n",
       "      <td>NaN</td>\n",
       "      <td>30.0</td>\n",
       "      <td>21:13</td>\n",
       "      <td>Urban</td>\n",
       "      <td>Fine no high winds</td>\n",
       "      <td>2005</td>\n",
       "      <td>No</td>\n",
       "    </tr>\n",
       "  </tbody>\n",
       "</table>\n",
       "</div>"
      ],
      "text/plain": [
       "  Accident_Index 1st_Road_Class  1st_Road_Number 2nd_Road_Class  2nd_Road_Number Accident_Severity Carriageway_Hazards        Date Day_of_Week  Did_Police_Officer_Attend_Scene_of_Accident              Junction_Control                      Junction_Detail   Latitude             Light_Conditions Local_Authority_(District) Local_Authority_(Highway)  Location_Easting_OSGR  Location_Northing_OSGR  Longitude LSOA_of_Accident_Location  Number_of_Casualties  Number_of_Vehicles  Pedestrian_Crossing-Human_Control  Pedestrian_Crossing-Physical_Facilities         Police_Force Road_Surface_Conditions           Road_Type Special_Conditions_at_Site  Speed_limit   Time Urban_or_Rural_Area     Weather_Conditions  Year InScotland\n",
       "0  200501BS00001              A           3218.0            NaN              0.0           Serious                 NaN  2005-01-04     Tuesday                                          1.0  Data missing or out of range  Not at junction or within 20 metres  51.489096                     Daylight     Kensington and Chelsea    Kensington and Chelsea               525680.0                178240.0  -0.191170                 E01002849                     1                   1                                0.0                                      1.0  Metropolitan Police             Wet or damp  Single carriageway                        NaN         30.0  17:42               Urban  Raining no high winds  2005         No\n",
       "1  200501BS00002              B            450.0              C              0.0            Slight                 NaN  2005-01-05   Wednesday                                          1.0           Auto traffic signal                           Crossroads  51.520075        Darkness - lights lit     Kensington and Chelsea    Kensington and Chelsea               524170.0                181650.0  -0.211708                 E01002909                     1                   1                                0.0                                      5.0  Metropolitan Police                     Dry    Dual carriageway                        NaN         30.0  17:36               Urban     Fine no high winds  2005         No\n",
       "2  200501BS00003              C              0.0            NaN              0.0            Slight                 NaN  2005-01-06    Thursday                                          1.0  Data missing or out of range  Not at junction or within 20 metres  51.525301        Darkness - lights lit     Kensington and Chelsea    Kensington and Chelsea               524520.0                182240.0  -0.206458                 E01002857                     1                   2                                0.0                                      0.0  Metropolitan Police                     Dry  Single carriageway                        NaN         30.0  00:15               Urban     Fine no high winds  2005         No\n",
       "3  200501BS00004              A           3220.0            NaN              0.0            Slight                 NaN  2005-01-07      Friday                                          1.0  Data missing or out of range  Not at junction or within 20 metres  51.482442                     Daylight     Kensington and Chelsea    Kensington and Chelsea               526900.0                177530.0  -0.173862                 E01002840                     1                   1                                0.0                                      0.0  Metropolitan Police                     Dry  Single carriageway                        NaN         30.0  10:35               Urban     Fine no high winds  2005         No\n",
       "4  200501BS00005   Unclassified              0.0            NaN              0.0            Slight                 NaN  2005-01-10      Monday                                          1.0  Data missing or out of range  Not at junction or within 20 metres  51.495752  Darkness - lighting unknown     Kensington and Chelsea    Kensington and Chelsea               528060.0                179040.0  -0.156618                 E01002863                     1                   1                                0.0                                      0.0  Metropolitan Police             Wet or damp  Single carriageway                        NaN         30.0  21:13               Urban     Fine no high winds  2005         No"
      ]
     },
     "execution_count": 9,
     "metadata": {},
     "output_type": "execute_result"
    }
   ],
   "source": [
    "# check the sample accidents \n",
    "accidents_df.head()"
   ]
  },
  {
   "cell_type": "code",
   "execution_count": 10,
   "id": "0a0ec639-45be-4d73-8691-1035859a883b",
   "metadata": {
    "tags": []
   },
   "outputs": [
    {
     "data": {
      "text/html": [
       "<div>\n",
       "<style scoped>\n",
       "    .dataframe tbody tr th:only-of-type {\n",
       "        vertical-align: middle;\n",
       "    }\n",
       "\n",
       "    .dataframe tbody tr th {\n",
       "        vertical-align: top;\n",
       "    }\n",
       "\n",
       "    .dataframe thead th {\n",
       "        text-align: right;\n",
       "    }\n",
       "</style>\n",
       "<table border=\"1\" class=\"dataframe\">\n",
       "  <thead>\n",
       "    <tr style=\"text-align: right;\">\n",
       "      <th></th>\n",
       "      <th>Accident_Index</th>\n",
       "      <th>Age_Band_of_Driver</th>\n",
       "      <th>Age_of_Vehicle</th>\n",
       "      <th>Driver_Home_Area_Type</th>\n",
       "      <th>Driver_IMD_Decile</th>\n",
       "      <th>Engine_Capacity_.CC.</th>\n",
       "      <th>Hit_Object_in_Carriageway</th>\n",
       "      <th>Hit_Object_off_Carriageway</th>\n",
       "      <th>Journey_Purpose_of_Driver</th>\n",
       "      <th>Junction_Location</th>\n",
       "      <th>make</th>\n",
       "      <th>model</th>\n",
       "      <th>Propulsion_Code</th>\n",
       "      <th>Sex_of_Driver</th>\n",
       "      <th>Skidding_and_Overturning</th>\n",
       "      <th>Towing_and_Articulation</th>\n",
       "      <th>Vehicle_Leaving_Carriageway</th>\n",
       "      <th>Vehicle_Location.Restricted_Lane</th>\n",
       "      <th>Vehicle_Manoeuvre</th>\n",
       "      <th>Vehicle_Reference</th>\n",
       "      <th>Vehicle_Type</th>\n",
       "      <th>Was_Vehicle_Left_Hand_Drive</th>\n",
       "      <th>X1st_Point_of_Impact</th>\n",
       "      <th>Year</th>\n",
       "    </tr>\n",
       "  </thead>\n",
       "  <tbody>\n",
       "    <tr>\n",
       "      <th>0</th>\n",
       "      <td>200401BS00001</td>\n",
       "      <td>26 - 35</td>\n",
       "      <td>3.0</td>\n",
       "      <td>Urban area</td>\n",
       "      <td>4.0</td>\n",
       "      <td>1588.0</td>\n",
       "      <td>NaN</td>\n",
       "      <td>NaN</td>\n",
       "      <td>Data missing or out of range</td>\n",
       "      <td>Data missing or out of range</td>\n",
       "      <td>ROVER</td>\n",
       "      <td>45 CLASSIC 16V</td>\n",
       "      <td>Petrol</td>\n",
       "      <td>Male</td>\n",
       "      <td>NaN</td>\n",
       "      <td>No tow/articulation</td>\n",
       "      <td>Did not leave carriageway</td>\n",
       "      <td>0.0</td>\n",
       "      <td>Going ahead other</td>\n",
       "      <td>2</td>\n",
       "      <td>109</td>\n",
       "      <td>Data missing or out of range</td>\n",
       "      <td>Front</td>\n",
       "      <td>2004</td>\n",
       "    </tr>\n",
       "    <tr>\n",
       "      <th>1</th>\n",
       "      <td>200401BS00002</td>\n",
       "      <td>26 - 35</td>\n",
       "      <td>NaN</td>\n",
       "      <td>Urban area</td>\n",
       "      <td>3.0</td>\n",
       "      <td>NaN</td>\n",
       "      <td>NaN</td>\n",
       "      <td>NaN</td>\n",
       "      <td>Data missing or out of range</td>\n",
       "      <td>Data missing or out of range</td>\n",
       "      <td>BMW</td>\n",
       "      <td>C1</td>\n",
       "      <td>NaN</td>\n",
       "      <td>Male</td>\n",
       "      <td>NaN</td>\n",
       "      <td>No tow/articulation</td>\n",
       "      <td>Did not leave carriageway</td>\n",
       "      <td>0.0</td>\n",
       "      <td>Going ahead other</td>\n",
       "      <td>1</td>\n",
       "      <td>109</td>\n",
       "      <td>Data missing or out of range</td>\n",
       "      <td>Front</td>\n",
       "      <td>2004</td>\n",
       "    </tr>\n",
       "    <tr>\n",
       "      <th>2</th>\n",
       "      <td>200401BS00003</td>\n",
       "      <td>26 - 35</td>\n",
       "      <td>4.0</td>\n",
       "      <td>Data missing or out of range</td>\n",
       "      <td>NaN</td>\n",
       "      <td>998.0</td>\n",
       "      <td>NaN</td>\n",
       "      <td>NaN</td>\n",
       "      <td>Data missing or out of range</td>\n",
       "      <td>Data missing or out of range</td>\n",
       "      <td>NISSAN</td>\n",
       "      <td>MICRA CELEBRATION 16V</td>\n",
       "      <td>Petrol</td>\n",
       "      <td>Male</td>\n",
       "      <td>NaN</td>\n",
       "      <td>No tow/articulation</td>\n",
       "      <td>Did not leave carriageway</td>\n",
       "      <td>0.0</td>\n",
       "      <td>Turning right</td>\n",
       "      <td>1</td>\n",
       "      <td>109</td>\n",
       "      <td>Data missing or out of range</td>\n",
       "      <td>Front</td>\n",
       "      <td>2004</td>\n",
       "    </tr>\n",
       "    <tr>\n",
       "      <th>3</th>\n",
       "      <td>200401BS00003</td>\n",
       "      <td>66 - 75</td>\n",
       "      <td>NaN</td>\n",
       "      <td>Data missing or out of range</td>\n",
       "      <td>NaN</td>\n",
       "      <td>NaN</td>\n",
       "      <td>NaN</td>\n",
       "      <td>NaN</td>\n",
       "      <td>Data missing or out of range</td>\n",
       "      <td>Data missing or out of range</td>\n",
       "      <td>LONDON TAXIS INT</td>\n",
       "      <td>TXII GOLD AUTO</td>\n",
       "      <td>NaN</td>\n",
       "      <td>Male</td>\n",
       "      <td>NaN</td>\n",
       "      <td>No tow/articulation</td>\n",
       "      <td>Did not leave carriageway</td>\n",
       "      <td>0.0</td>\n",
       "      <td>Going ahead other</td>\n",
       "      <td>2</td>\n",
       "      <td>109</td>\n",
       "      <td>Data missing or out of range</td>\n",
       "      <td>Front</td>\n",
       "      <td>2004</td>\n",
       "    </tr>\n",
       "    <tr>\n",
       "      <th>4</th>\n",
       "      <td>200401BS00004</td>\n",
       "      <td>26 - 35</td>\n",
       "      <td>1.0</td>\n",
       "      <td>Urban area</td>\n",
       "      <td>4.0</td>\n",
       "      <td>124.0</td>\n",
       "      <td>NaN</td>\n",
       "      <td>NaN</td>\n",
       "      <td>Data missing or out of range</td>\n",
       "      <td>Data missing or out of range</td>\n",
       "      <td>PIAGGIO</td>\n",
       "      <td>VESPA ET4</td>\n",
       "      <td>Petrol</td>\n",
       "      <td>Male</td>\n",
       "      <td>NaN</td>\n",
       "      <td>No tow/articulation</td>\n",
       "      <td>Did not leave carriageway</td>\n",
       "      <td>0.0</td>\n",
       "      <td>Going ahead other</td>\n",
       "      <td>1</td>\n",
       "      <td>Motorcycle 125cc and under</td>\n",
       "      <td>Data missing or out of range</td>\n",
       "      <td>Front</td>\n",
       "      <td>2004</td>\n",
       "    </tr>\n",
       "  </tbody>\n",
       "</table>\n",
       "</div>"
      ],
      "text/plain": [
       "  Accident_Index Age_Band_of_Driver  Age_of_Vehicle         Driver_Home_Area_Type  Driver_IMD_Decile  Engine_Capacity_.CC. Hit_Object_in_Carriageway Hit_Object_off_Carriageway     Journey_Purpose_of_Driver             Junction_Location              make                  model Propulsion_Code Sex_of_Driver Skidding_and_Overturning Towing_and_Articulation Vehicle_Leaving_Carriageway  Vehicle_Location.Restricted_Lane  Vehicle_Manoeuvre  Vehicle_Reference                Vehicle_Type   Was_Vehicle_Left_Hand_Drive X1st_Point_of_Impact  Year\n",
       "0  200401BS00001            26 - 35             3.0                    Urban area                4.0                1588.0                       NaN                        NaN  Data missing or out of range  Data missing or out of range             ROVER         45 CLASSIC 16V          Petrol          Male                      NaN     No tow/articulation   Did not leave carriageway                               0.0  Going ahead other                  2                         109  Data missing or out of range                Front  2004\n",
       "1  200401BS00002            26 - 35             NaN                    Urban area                3.0                   NaN                       NaN                        NaN  Data missing or out of range  Data missing or out of range               BMW                     C1             NaN          Male                      NaN     No tow/articulation   Did not leave carriageway                               0.0  Going ahead other                  1                         109  Data missing or out of range                Front  2004\n",
       "2  200401BS00003            26 - 35             4.0  Data missing or out of range                NaN                 998.0                       NaN                        NaN  Data missing or out of range  Data missing or out of range            NISSAN  MICRA CELEBRATION 16V          Petrol          Male                      NaN     No tow/articulation   Did not leave carriageway                               0.0      Turning right                  1                         109  Data missing or out of range                Front  2004\n",
       "3  200401BS00003            66 - 75             NaN  Data missing or out of range                NaN                   NaN                       NaN                        NaN  Data missing or out of range  Data missing or out of range  LONDON TAXIS INT         TXII GOLD AUTO             NaN          Male                      NaN     No tow/articulation   Did not leave carriageway                               0.0  Going ahead other                  2                         109  Data missing or out of range                Front  2004\n",
       "4  200401BS00004            26 - 35             1.0                    Urban area                4.0                 124.0                       NaN                        NaN  Data missing or out of range  Data missing or out of range           PIAGGIO              VESPA ET4          Petrol          Male                      NaN     No tow/articulation   Did not leave carriageway                               0.0  Going ahead other                  1  Motorcycle 125cc and under  Data missing or out of range                Front  2004"
      ]
     },
     "execution_count": 10,
     "metadata": {},
     "output_type": "execute_result"
    }
   ],
   "source": [
    "# check the sample vehicle data\n",
    "vehicles_df.head()"
   ]
  },
  {
   "cell_type": "markdown",
   "id": "3ef4daa1-eebe-401f-8cee-735e5b90fdc4",
   "metadata": {},
   "source": [
    "### [Observation] We can see the both files have common field called 'Accident_Index', but explore how the two files are correalted in a meanigful way"
   ]
  },
  {
   "cell_type": "code",
   "execution_count": 11,
   "id": "3098e5d9-ad83-4866-81c5-df87651902bb",
   "metadata": {
    "tags": []
   },
   "outputs": [
    {
     "name": "stdout",
     "output_type": "stream",
     "text": [
      "True False\n"
     ]
    }
   ],
   "source": [
    "print(accidents_df['Accident_Index'].is_unique, vehicles_df['Accident_Index'].is_unique)"
   ]
  },
  {
   "cell_type": "code",
   "execution_count": 12,
   "id": "2a1cd78d-2fec-426c-a888-72e3c2ab9081",
   "metadata": {
    "tags": []
   },
   "outputs": [
    {
     "data": {
      "text/plain": [
       "Number_of_Vehicles\n",
       "2     1219250\n",
       "1      617572\n",
       "3      163519\n",
       "4       35067\n",
       "5        7813\n",
       "6        2393\n",
       "7         864\n",
       "8         396\n",
       "9         177\n",
       "10         90\n",
       "11         37\n",
       "12         21\n",
       "13         14\n",
       "14         14\n",
       "16          8\n",
       "15          4\n",
       "18          3\n",
       "20          2\n",
       "19          2\n",
       "37          1\n",
       "34          1\n",
       "21          1\n",
       "67          1\n",
       "17          1\n",
       "29          1\n",
       "32          1\n",
       "28          1\n",
       "22          1\n",
       "23          1\n",
       "Name: count, dtype: int64"
      ]
     },
     "execution_count": 12,
     "metadata": {},
     "output_type": "execute_result"
    }
   ],
   "source": [
    "accidents_df['Number_of_Vehicles'].value_counts()"
   ]
  },
  {
   "cell_type": "code",
   "execution_count": 13,
   "id": "760552bf-94ee-4c8a-b08a-c684bdfc8b3b",
   "metadata": {
    "tags": []
   },
   "outputs": [
    {
     "data": {
      "text/html": [
       "<div>\n",
       "<style scoped>\n",
       "    .dataframe tbody tr th:only-of-type {\n",
       "        vertical-align: middle;\n",
       "    }\n",
       "\n",
       "    .dataframe tbody tr th {\n",
       "        vertical-align: top;\n",
       "    }\n",
       "\n",
       "    .dataframe thead th {\n",
       "        text-align: right;\n",
       "    }\n",
       "</style>\n",
       "<table border=\"1\" class=\"dataframe\">\n",
       "  <thead>\n",
       "    <tr style=\"text-align: right;\">\n",
       "      <th></th>\n",
       "      <th>Accident_Index</th>\n",
       "      <th>1st_Road_Class</th>\n",
       "      <th>1st_Road_Number</th>\n",
       "      <th>2nd_Road_Class</th>\n",
       "      <th>2nd_Road_Number</th>\n",
       "      <th>Accident_Severity</th>\n",
       "      <th>Carriageway_Hazards</th>\n",
       "      <th>Date</th>\n",
       "      <th>Day_of_Week</th>\n",
       "      <th>Did_Police_Officer_Attend_Scene_of_Accident</th>\n",
       "      <th>Junction_Control</th>\n",
       "      <th>Junction_Detail</th>\n",
       "      <th>Latitude</th>\n",
       "      <th>Light_Conditions</th>\n",
       "      <th>Local_Authority_(District)</th>\n",
       "      <th>Local_Authority_(Highway)</th>\n",
       "      <th>Location_Easting_OSGR</th>\n",
       "      <th>Location_Northing_OSGR</th>\n",
       "      <th>Longitude</th>\n",
       "      <th>LSOA_of_Accident_Location</th>\n",
       "      <th>Number_of_Casualties</th>\n",
       "      <th>Number_of_Vehicles</th>\n",
       "      <th>Pedestrian_Crossing-Human_Control</th>\n",
       "      <th>Pedestrian_Crossing-Physical_Facilities</th>\n",
       "      <th>Police_Force</th>\n",
       "      <th>Road_Surface_Conditions</th>\n",
       "      <th>Road_Type</th>\n",
       "      <th>Special_Conditions_at_Site</th>\n",
       "      <th>Speed_limit</th>\n",
       "      <th>Time</th>\n",
       "      <th>Urban_or_Rural_Area</th>\n",
       "      <th>Weather_Conditions</th>\n",
       "      <th>Year</th>\n",
       "      <th>InScotland</th>\n",
       "    </tr>\n",
       "  </thead>\n",
       "  <tbody>\n",
       "    <tr>\n",
       "      <th>341867</th>\n",
       "      <td>2006460128486</td>\n",
       "      <td>A</td>\n",
       "      <td>21.0</td>\n",
       "      <td>NaN</td>\n",
       "      <td>0.0</td>\n",
       "      <td>Serious</td>\n",
       "      <td>NaN</td>\n",
       "      <td>2006-07-11</td>\n",
       "      <td>Tuesday</td>\n",
       "      <td>1.0</td>\n",
       "      <td>Data missing or out of range</td>\n",
       "      <td>Not at junction or within 20 metres</td>\n",
       "      <td>51.243651</td>\n",
       "      <td>Daylight</td>\n",
       "      <td>Sevenoaks</td>\n",
       "      <td>Kent</td>\n",
       "      <td>553930.0</td>\n",
       "      <td>151700.0</td>\n",
       "      <td>0.203951</td>\n",
       "      <td>E01024459</td>\n",
       "      <td>4</td>\n",
       "      <td>22</td>\n",
       "      <td>0.0</td>\n",
       "      <td>0.0</td>\n",
       "      <td>Kent</td>\n",
       "      <td>Wet or damp</td>\n",
       "      <td>Dual carriageway</td>\n",
       "      <td>Oil or diesel</td>\n",
       "      <td>70.0</td>\n",
       "      <td>07:30</td>\n",
       "      <td>Rural</td>\n",
       "      <td>Fine no high winds</td>\n",
       "      <td>2006</td>\n",
       "      <td>No</td>\n",
       "    </tr>\n",
       "  </tbody>\n",
       "</table>\n",
       "</div>"
      ],
      "text/plain": [
       "       Accident_Index 1st_Road_Class  1st_Road_Number 2nd_Road_Class  2nd_Road_Number Accident_Severity Carriageway_Hazards        Date Day_of_Week  Did_Police_Officer_Attend_Scene_of_Accident              Junction_Control                      Junction_Detail   Latitude Light_Conditions Local_Authority_(District) Local_Authority_(Highway)  Location_Easting_OSGR  Location_Northing_OSGR  Longitude LSOA_of_Accident_Location  Number_of_Casualties  Number_of_Vehicles  Pedestrian_Crossing-Human_Control  Pedestrian_Crossing-Physical_Facilities Police_Force Road_Surface_Conditions         Road_Type Special_Conditions_at_Site  Speed_limit   Time Urban_or_Rural_Area  Weather_Conditions  Year InScotland\n",
       "341867  2006460128486              A             21.0            NaN              0.0           Serious                 NaN  2006-07-11     Tuesday                                          1.0  Data missing or out of range  Not at junction or within 20 metres  51.243651         Daylight                  Sevenoaks                      Kent               553930.0                151700.0   0.203951                 E01024459                     4                  22                                0.0                                      0.0         Kent             Wet or damp  Dual carriageway              Oil or diesel         70.0  07:30               Rural  Fine no high winds  2006         No"
      ]
     },
     "execution_count": 13,
     "metadata": {},
     "output_type": "execute_result"
    }
   ],
   "source": [
    "accidents_df[accidents_df['Number_of_Vehicles']==22]"
   ]
  },
  {
   "cell_type": "code",
   "execution_count": 14,
   "id": "2036a402-8d64-4fbf-bcf8-de753824bbc4",
   "metadata": {
    "tags": []
   },
   "outputs": [
    {
     "data": {
      "text/html": [
       "<div>\n",
       "<style scoped>\n",
       "    .dataframe tbody tr th:only-of-type {\n",
       "        vertical-align: middle;\n",
       "    }\n",
       "\n",
       "    .dataframe tbody tr th {\n",
       "        vertical-align: top;\n",
       "    }\n",
       "\n",
       "    .dataframe thead th {\n",
       "        text-align: right;\n",
       "    }\n",
       "</style>\n",
       "<table border=\"1\" class=\"dataframe\">\n",
       "  <thead>\n",
       "    <tr style=\"text-align: right;\">\n",
       "      <th></th>\n",
       "      <th>Accident_Index</th>\n",
       "      <th>Age_Band_of_Driver</th>\n",
       "      <th>Age_of_Vehicle</th>\n",
       "      <th>Driver_Home_Area_Type</th>\n",
       "      <th>Driver_IMD_Decile</th>\n",
       "      <th>Engine_Capacity_.CC.</th>\n",
       "      <th>Hit_Object_in_Carriageway</th>\n",
       "      <th>Hit_Object_off_Carriageway</th>\n",
       "      <th>Journey_Purpose_of_Driver</th>\n",
       "      <th>Junction_Location</th>\n",
       "      <th>make</th>\n",
       "      <th>model</th>\n",
       "      <th>Propulsion_Code</th>\n",
       "      <th>Sex_of_Driver</th>\n",
       "      <th>Skidding_and_Overturning</th>\n",
       "      <th>Towing_and_Articulation</th>\n",
       "      <th>Vehicle_Leaving_Carriageway</th>\n",
       "      <th>Vehicle_Location.Restricted_Lane</th>\n",
       "      <th>Vehicle_Manoeuvre</th>\n",
       "      <th>Vehicle_Reference</th>\n",
       "      <th>Vehicle_Type</th>\n",
       "      <th>Was_Vehicle_Left_Hand_Drive</th>\n",
       "      <th>X1st_Point_of_Impact</th>\n",
       "      <th>Year</th>\n",
       "    </tr>\n",
       "  </thead>\n",
       "  <tbody>\n",
       "    <tr>\n",
       "      <th>318518</th>\n",
       "      <td>2006460128486</td>\n",
       "      <td>26 - 35</td>\n",
       "      <td>3.0</td>\n",
       "      <td>Urban area</td>\n",
       "      <td>9.0</td>\n",
       "      <td>1599.0</td>\n",
       "      <td>NaN</td>\n",
       "      <td>NaN</td>\n",
       "      <td>Commuting to/from work</td>\n",
       "      <td>Not at or within 20 metres of junction</td>\n",
       "      <td>FORD</td>\n",
       "      <td>SPORTKA SE</td>\n",
       "      <td>Petrol</td>\n",
       "      <td>Female</td>\n",
       "      <td>Skidded</td>\n",
       "      <td>No tow/articulation</td>\n",
       "      <td>Did not leave carriageway</td>\n",
       "      <td>0.0</td>\n",
       "      <td>Slowing or stopping</td>\n",
       "      <td>2</td>\n",
       "      <td>Car</td>\n",
       "      <td>No</td>\n",
       "      <td>Front</td>\n",
       "      <td>2006</td>\n",
       "    </tr>\n",
       "    <tr>\n",
       "      <th>318519</th>\n",
       "      <td>2006460128486</td>\n",
       "      <td>46 - 55</td>\n",
       "      <td>13.0</td>\n",
       "      <td>Urban area</td>\n",
       "      <td>7.0</td>\n",
       "      <td>1998.0</td>\n",
       "      <td>NaN</td>\n",
       "      <td>NaN</td>\n",
       "      <td>Commuting to/from work</td>\n",
       "      <td>Not at or within 20 metres of junction</td>\n",
       "      <td>VOLVO</td>\n",
       "      <td>440 SE</td>\n",
       "      <td>Petrol</td>\n",
       "      <td>Male</td>\n",
       "      <td>Skidded</td>\n",
       "      <td>No tow/articulation</td>\n",
       "      <td>Did not leave carriageway</td>\n",
       "      <td>0.0</td>\n",
       "      <td>Slowing or stopping</td>\n",
       "      <td>4</td>\n",
       "      <td>Car</td>\n",
       "      <td>No</td>\n",
       "      <td>Front</td>\n",
       "      <td>2006</td>\n",
       "    </tr>\n",
       "    <tr>\n",
       "      <th>318520</th>\n",
       "      <td>2006460128486</td>\n",
       "      <td>56 - 65</td>\n",
       "      <td>5.0</td>\n",
       "      <td>Urban area</td>\n",
       "      <td>10.0</td>\n",
       "      <td>998.0</td>\n",
       "      <td>NaN</td>\n",
       "      <td>NaN</td>\n",
       "      <td>Journey as part of work</td>\n",
       "      <td>Not at or within 20 metres of junction</td>\n",
       "      <td>NISSAN</td>\n",
       "      <td>MICRA SE 16V AUTO</td>\n",
       "      <td>Petrol</td>\n",
       "      <td>Female</td>\n",
       "      <td>Skidded</td>\n",
       "      <td>No tow/articulation</td>\n",
       "      <td>Did not leave carriageway</td>\n",
       "      <td>0.0</td>\n",
       "      <td>Going ahead other</td>\n",
       "      <td>7</td>\n",
       "      <td>Car</td>\n",
       "      <td>No</td>\n",
       "      <td>Front</td>\n",
       "      <td>2006</td>\n",
       "    </tr>\n",
       "    <tr>\n",
       "      <th>318521</th>\n",
       "      <td>2006460128486</td>\n",
       "      <td>36 - 45</td>\n",
       "      <td>2.0</td>\n",
       "      <td>Rural</td>\n",
       "      <td>9.0</td>\n",
       "      <td>1796.0</td>\n",
       "      <td>NaN</td>\n",
       "      <td>NaN</td>\n",
       "      <td>Commuting to/from work</td>\n",
       "      <td>Not at or within 20 metres of junction</td>\n",
       "      <td>MERCEDES</td>\n",
       "      <td>CLK 200 KOMP.AVANTGARDE AUT</td>\n",
       "      <td>Petrol</td>\n",
       "      <td>Male</td>\n",
       "      <td>NaN</td>\n",
       "      <td>No tow/articulation</td>\n",
       "      <td>Did not leave carriageway</td>\n",
       "      <td>0.0</td>\n",
       "      <td>Slowing or stopping</td>\n",
       "      <td>8</td>\n",
       "      <td>Car</td>\n",
       "      <td>No</td>\n",
       "      <td>Back</td>\n",
       "      <td>2006</td>\n",
       "    </tr>\n",
       "    <tr>\n",
       "      <th>318522</th>\n",
       "      <td>2006460128486</td>\n",
       "      <td>16 - 20</td>\n",
       "      <td>3.0</td>\n",
       "      <td>Urban area</td>\n",
       "      <td>8.0</td>\n",
       "      <td>1686.0</td>\n",
       "      <td>NaN</td>\n",
       "      <td>NaN</td>\n",
       "      <td>Commuting to/from work</td>\n",
       "      <td>Not at or within 20 metres of junction</td>\n",
       "      <td>VAUXHALL</td>\n",
       "      <td>COMBO 1700 DTI</td>\n",
       "      <td>Heavy oil</td>\n",
       "      <td>Male</td>\n",
       "      <td>NaN</td>\n",
       "      <td>No tow/articulation</td>\n",
       "      <td>Did not leave carriageway</td>\n",
       "      <td>0.0</td>\n",
       "      <td>Slowing or stopping</td>\n",
       "      <td>10</td>\n",
       "      <td>Van / Goods 3.5 tonnes mgw or under</td>\n",
       "      <td>No</td>\n",
       "      <td>Front</td>\n",
       "      <td>2006</td>\n",
       "    </tr>\n",
       "    <tr>\n",
       "      <th>318523</th>\n",
       "      <td>2006460128486</td>\n",
       "      <td>26 - 35</td>\n",
       "      <td>2.0</td>\n",
       "      <td>Urban area</td>\n",
       "      <td>8.0</td>\n",
       "      <td>1997.0</td>\n",
       "      <td>NaN</td>\n",
       "      <td>NaN</td>\n",
       "      <td>Commuting to/from work</td>\n",
       "      <td>Not at or within 20 metres of junction</td>\n",
       "      <td>CITROEN</td>\n",
       "      <td>BERLINGO 600TD HDI LX</td>\n",
       "      <td>Heavy oil</td>\n",
       "      <td>Male</td>\n",
       "      <td>Skidded</td>\n",
       "      <td>No tow/articulation</td>\n",
       "      <td>Did not leave carriageway</td>\n",
       "      <td>0.0</td>\n",
       "      <td>Slowing or stopping</td>\n",
       "      <td>14</td>\n",
       "      <td>Van / Goods 3.5 tonnes mgw or under</td>\n",
       "      <td>No</td>\n",
       "      <td>Front</td>\n",
       "      <td>2006</td>\n",
       "    </tr>\n",
       "    <tr>\n",
       "      <th>318524</th>\n",
       "      <td>2006460128486</td>\n",
       "      <td>21 - 25</td>\n",
       "      <td>16.0</td>\n",
       "      <td>Small town</td>\n",
       "      <td>9.0</td>\n",
       "      <td>1596.0</td>\n",
       "      <td>NaN</td>\n",
       "      <td>NaN</td>\n",
       "      <td>Commuting to/from work</td>\n",
       "      <td>Not at or within 20 metres of junction</td>\n",
       "      <td>FORD</td>\n",
       "      <td>FIESTA XR2I</td>\n",
       "      <td>Petrol</td>\n",
       "      <td>Male</td>\n",
       "      <td>Skidded</td>\n",
       "      <td>No tow/articulation</td>\n",
       "      <td>Nearside</td>\n",
       "      <td>0.0</td>\n",
       "      <td>Going ahead other</td>\n",
       "      <td>16</td>\n",
       "      <td>Car</td>\n",
       "      <td>No</td>\n",
       "      <td>Nearside</td>\n",
       "      <td>2006</td>\n",
       "    </tr>\n",
       "    <tr>\n",
       "      <th>318525</th>\n",
       "      <td>2006460128486</td>\n",
       "      <td>46 - 55</td>\n",
       "      <td>15.0</td>\n",
       "      <td>Rural</td>\n",
       "      <td>7.0</td>\n",
       "      <td>1124.0</td>\n",
       "      <td>NaN</td>\n",
       "      <td>NaN</td>\n",
       "      <td>Commuting to/from work</td>\n",
       "      <td>Not at or within 20 metres of junction</td>\n",
       "      <td>PEUGEOT</td>\n",
       "      <td>205 TRIO S</td>\n",
       "      <td>Petrol</td>\n",
       "      <td>Male</td>\n",
       "      <td>Skidded</td>\n",
       "      <td>No tow/articulation</td>\n",
       "      <td>Nearside</td>\n",
       "      <td>0.0</td>\n",
       "      <td>Going ahead other</td>\n",
       "      <td>17</td>\n",
       "      <td>Car</td>\n",
       "      <td>No</td>\n",
       "      <td>Did not impact</td>\n",
       "      <td>2006</td>\n",
       "    </tr>\n",
       "    <tr>\n",
       "      <th>318526</th>\n",
       "      <td>2006460128486</td>\n",
       "      <td>36 - 45</td>\n",
       "      <td>6.0</td>\n",
       "      <td>Urban area</td>\n",
       "      <td>8.0</td>\n",
       "      <td>2000.0</td>\n",
       "      <td>NaN</td>\n",
       "      <td>NaN</td>\n",
       "      <td>Commuting to/from work</td>\n",
       "      <td>Not at or within 20 metres of junction</td>\n",
       "      <td>BMW</td>\n",
       "      <td>320 D SE TOURING</td>\n",
       "      <td>Heavy oil</td>\n",
       "      <td>Male</td>\n",
       "      <td>Skidded</td>\n",
       "      <td>No tow/articulation</td>\n",
       "      <td>Did not leave carriageway</td>\n",
       "      <td>0.0</td>\n",
       "      <td>Slowing or stopping</td>\n",
       "      <td>18</td>\n",
       "      <td>Car</td>\n",
       "      <td>No</td>\n",
       "      <td>Back</td>\n",
       "      <td>2006</td>\n",
       "    </tr>\n",
       "    <tr>\n",
       "      <th>318527</th>\n",
       "      <td>2006460128486</td>\n",
       "      <td>Data missing or out of range</td>\n",
       "      <td>2.0</td>\n",
       "      <td>Data missing or out of range</td>\n",
       "      <td>NaN</td>\n",
       "      <td>1995.0</td>\n",
       "      <td>NaN</td>\n",
       "      <td>NaN</td>\n",
       "      <td>Other/Not known (2005-10)</td>\n",
       "      <td>Not at or within 20 metres of junction</td>\n",
       "      <td>VAUXHALL</td>\n",
       "      <td>ZAFIRA LIFE DTI</td>\n",
       "      <td>Heavy oil</td>\n",
       "      <td>Not known</td>\n",
       "      <td>NaN</td>\n",
       "      <td>No tow/articulation</td>\n",
       "      <td>Did not leave carriageway</td>\n",
       "      <td>0.0</td>\n",
       "      <td>Going ahead other</td>\n",
       "      <td>21</td>\n",
       "      <td>Car</td>\n",
       "      <td>No</td>\n",
       "      <td>Did not impact</td>\n",
       "      <td>2006</td>\n",
       "    </tr>\n",
       "  </tbody>\n",
       "</table>\n",
       "</div>"
      ],
      "text/plain": [
       "       Accident_Index            Age_Band_of_Driver  Age_of_Vehicle         Driver_Home_Area_Type  Driver_IMD_Decile  Engine_Capacity_.CC. Hit_Object_in_Carriageway Hit_Object_off_Carriageway  Journey_Purpose_of_Driver                       Junction_Location      make                        model Propulsion_Code Sex_of_Driver Skidding_and_Overturning Towing_and_Articulation Vehicle_Leaving_Carriageway  Vehicle_Location.Restricted_Lane    Vehicle_Manoeuvre  Vehicle_Reference                         Vehicle_Type Was_Vehicle_Left_Hand_Drive X1st_Point_of_Impact  Year\n",
       "318518  2006460128486                       26 - 35             3.0                    Urban area                9.0                1599.0                       NaN                        NaN     Commuting to/from work  Not at or within 20 metres of junction      FORD                   SPORTKA SE          Petrol        Female                  Skidded     No tow/articulation   Did not leave carriageway                               0.0  Slowing or stopping                  2                                  Car                          No                Front  2006\n",
       "318519  2006460128486                       46 - 55            13.0                    Urban area                7.0                1998.0                       NaN                        NaN     Commuting to/from work  Not at or within 20 metres of junction     VOLVO                       440 SE          Petrol          Male                  Skidded     No tow/articulation   Did not leave carriageway                               0.0  Slowing or stopping                  4                                  Car                          No                Front  2006\n",
       "318520  2006460128486                       56 - 65             5.0                    Urban area               10.0                 998.0                       NaN                        NaN    Journey as part of work  Not at or within 20 metres of junction    NISSAN            MICRA SE 16V AUTO          Petrol        Female                  Skidded     No tow/articulation   Did not leave carriageway                               0.0    Going ahead other                  7                                  Car                          No                Front  2006\n",
       "318521  2006460128486                       36 - 45             2.0                         Rural                9.0                1796.0                       NaN                        NaN     Commuting to/from work  Not at or within 20 metres of junction  MERCEDES  CLK 200 KOMP.AVANTGARDE AUT          Petrol          Male                      NaN     No tow/articulation   Did not leave carriageway                               0.0  Slowing or stopping                  8                                  Car                          No                 Back  2006\n",
       "318522  2006460128486                       16 - 20             3.0                    Urban area                8.0                1686.0                       NaN                        NaN     Commuting to/from work  Not at or within 20 metres of junction  VAUXHALL               COMBO 1700 DTI       Heavy oil          Male                      NaN     No tow/articulation   Did not leave carriageway                               0.0  Slowing or stopping                 10  Van / Goods 3.5 tonnes mgw or under                          No                Front  2006\n",
       "318523  2006460128486                       26 - 35             2.0                    Urban area                8.0                1997.0                       NaN                        NaN     Commuting to/from work  Not at or within 20 metres of junction   CITROEN        BERLINGO 600TD HDI LX       Heavy oil          Male                  Skidded     No tow/articulation   Did not leave carriageway                               0.0  Slowing or stopping                 14  Van / Goods 3.5 tonnes mgw or under                          No                Front  2006\n",
       "318524  2006460128486                       21 - 25            16.0                    Small town                9.0                1596.0                       NaN                        NaN     Commuting to/from work  Not at or within 20 metres of junction      FORD                  FIESTA XR2I          Petrol          Male                  Skidded     No tow/articulation                    Nearside                               0.0    Going ahead other                 16                                  Car                          No             Nearside  2006\n",
       "318525  2006460128486                       46 - 55            15.0                         Rural                7.0                1124.0                       NaN                        NaN     Commuting to/from work  Not at or within 20 metres of junction   PEUGEOT                   205 TRIO S          Petrol          Male                  Skidded     No tow/articulation                    Nearside                               0.0    Going ahead other                 17                                  Car                          No       Did not impact  2006\n",
       "318526  2006460128486                       36 - 45             6.0                    Urban area                8.0                2000.0                       NaN                        NaN     Commuting to/from work  Not at or within 20 metres of junction       BMW             320 D SE TOURING       Heavy oil          Male                  Skidded     No tow/articulation   Did not leave carriageway                               0.0  Slowing or stopping                 18                                  Car                          No                 Back  2006\n",
       "318527  2006460128486  Data missing or out of range             2.0  Data missing or out of range                NaN                1995.0                       NaN                        NaN  Other/Not known (2005-10)  Not at or within 20 metres of junction  VAUXHALL              ZAFIRA LIFE DTI       Heavy oil     Not known                      NaN     No tow/articulation   Did not leave carriageway                               0.0    Going ahead other                 21                                  Car                          No       Did not impact  2006"
      ]
     },
     "execution_count": 14,
     "metadata": {},
     "output_type": "execute_result"
    }
   ],
   "source": [
    "vehicles_df.query('Accident_Index==\"2006460128486\"')"
   ]
  },
  {
   "cell_type": "markdown",
   "id": "f2fc9255-935e-4680-ad75-9c74d205c6cd",
   "metadata": {},
   "source": [
    "### [Observation] There are multiple vehicles present for each accident index"
   ]
  },
  {
   "cell_type": "code",
   "execution_count": 15,
   "id": "d6de76e2-ceaf-4266-89a6-62f0f318bf83",
   "metadata": {
    "tags": []
   },
   "outputs": [
    {
     "name": "stdout",
     "output_type": "stream",
     "text": [
      "Accidents Data Year  { min: 2005 , max: 2017 }\n"
     ]
    }
   ],
   "source": [
    "print('Accidents Data Year ','{ min:', accidents_df['Year'].min(), ', max:', accidents_df['Year'].max(), '}')"
   ]
  },
  {
   "cell_type": "code",
   "execution_count": 16,
   "id": "0dc3065b-d123-4c93-ae71-1ffd315c94cc",
   "metadata": {
    "tags": []
   },
   "outputs": [
    {
     "name": "stdout",
     "output_type": "stream",
     "text": [
      "Vehicle Data Year  { min: 2004 , max: 2016 }\n"
     ]
    }
   ],
   "source": [
    "print('Vehicle Data Year ','{ min:', vehicles_df['Year'].min(), ', max:', vehicles_df['Year'].max(), '}')"
   ]
  },
  {
   "cell_type": "code",
   "execution_count": 17,
   "id": "e65496f3-a409-40fa-ad9c-ef58f67278fe",
   "metadata": {
    "tags": []
   },
   "outputs": [
    {
     "data": {
      "text/html": [
       "<div>\n",
       "<style scoped>\n",
       "    .dataframe tbody tr th:only-of-type {\n",
       "        vertical-align: middle;\n",
       "    }\n",
       "\n",
       "    .dataframe tbody tr th {\n",
       "        vertical-align: top;\n",
       "    }\n",
       "\n",
       "    .dataframe thead th {\n",
       "        text-align: right;\n",
       "    }\n",
       "</style>\n",
       "<table border=\"1\" class=\"dataframe\">\n",
       "  <thead>\n",
       "    <tr style=\"text-align: right;\">\n",
       "      <th></th>\n",
       "      <th>Accident_Index</th>\n",
       "      <th>Age_Band_of_Driver</th>\n",
       "      <th>Age_of_Vehicle</th>\n",
       "      <th>Driver_Home_Area_Type</th>\n",
       "      <th>Driver_IMD_Decile</th>\n",
       "      <th>Engine_Capacity_.CC.</th>\n",
       "      <th>Hit_Object_in_Carriageway</th>\n",
       "      <th>Hit_Object_off_Carriageway</th>\n",
       "      <th>Journey_Purpose_of_Driver</th>\n",
       "      <th>Junction_Location</th>\n",
       "      <th>make</th>\n",
       "      <th>model</th>\n",
       "      <th>Propulsion_Code</th>\n",
       "      <th>Sex_of_Driver</th>\n",
       "      <th>Skidding_and_Overturning</th>\n",
       "      <th>Towing_and_Articulation</th>\n",
       "      <th>Vehicle_Leaving_Carriageway</th>\n",
       "      <th>Vehicle_Location.Restricted_Lane</th>\n",
       "      <th>Vehicle_Manoeuvre</th>\n",
       "      <th>Vehicle_Reference</th>\n",
       "      <th>Vehicle_Type</th>\n",
       "      <th>Was_Vehicle_Left_Hand_Drive</th>\n",
       "      <th>X1st_Point_of_Impact</th>\n",
       "      <th>Year</th>\n",
       "    </tr>\n",
       "  </thead>\n",
       "  <tbody>\n",
       "  </tbody>\n",
       "</table>\n",
       "</div>"
      ],
      "text/plain": [
       "Empty DataFrame\n",
       "Columns: [Accident_Index, Age_Band_of_Driver, Age_of_Vehicle, Driver_Home_Area_Type, Driver_IMD_Decile, Engine_Capacity_.CC., Hit_Object_in_Carriageway, Hit_Object_off_Carriageway, Journey_Purpose_of_Driver, Junction_Location, make, model, Propulsion_Code, Sex_of_Driver, Skidding_and_Overturning, Towing_and_Articulation, Vehicle_Leaving_Carriageway, Vehicle_Location.Restricted_Lane, Vehicle_Manoeuvre, Vehicle_Reference, Vehicle_Type, Was_Vehicle_Left_Hand_Drive, X1st_Point_of_Impact, Year]\n",
       "Index: []"
      ]
     },
     "execution_count": 17,
     "metadata": {},
     "output_type": "execute_result"
    }
   ],
   "source": [
    "vehicles_df.query('Accident_Index==\"200501BS00001\"')"
   ]
  },
  {
   "cell_type": "markdown",
   "id": "124d1454-fcf9-4ba9-8735-16ed92ccfcb5",
   "metadata": {},
   "source": [
    "### [Observation] Randomly checking Accident_Index and Years from accidents in vehicle data frame shows no results, not all the records from accidents have entries in vehicle and vice versa  \n",
    "\n",
    "### Check mutually exclusive records in each data frame and filter them"
   ]
  },
  {
   "cell_type": "code",
   "execution_count": 18,
   "id": "26378a72-4c91-49fd-a042-26f0d5f9248b",
   "metadata": {
    "tags": []
   },
   "outputs": [],
   "source": [
    "accidents_df = accidents_df.dropna(subset=['Time'])"
   ]
  },
  {
   "cell_type": "code",
   "execution_count": 19,
   "id": "84467d77-d80a-43b2-b18f-51ea85bfe5a0",
   "metadata": {
    "tags": []
   },
   "outputs": [],
   "source": [
    "filtered_accidents_df = accidents_df[accidents_df['Accident_Index'].isin(vehicles_df['Accident_Index'])]"
   ]
  },
  {
   "cell_type": "code",
   "execution_count": 20,
   "id": "cd5d990e-7fd1-40e6-b3e9-d92b386a6845",
   "metadata": {
    "tags": []
   },
   "outputs": [
    {
     "data": {
      "text/plain": [
       "(1389623, 34)"
      ]
     },
     "execution_count": 20,
     "metadata": {},
     "output_type": "execute_result"
    }
   ],
   "source": [
    "filtered_accidents_df.shape"
   ]
  },
  {
   "cell_type": "code",
   "execution_count": 21,
   "id": "c9a280d3-4e97-4bfd-a9c9-2bb0f92cefc6",
   "metadata": {
    "tags": []
   },
   "outputs": [
    {
     "name": "stdout",
     "output_type": "stream",
     "text": [
      "Accidents Data Year  { min: 2005 , max: 2016 }\n"
     ]
    }
   ],
   "source": [
    "print('Accidents Data Year ','{ min:', filtered_accidents_df['Year'].min(), ', max:', filtered_accidents_df['Year'].max(), '}')"
   ]
  },
  {
   "cell_type": "code",
   "execution_count": 22,
   "id": "2efb0784-cef6-45d2-b4af-41f18ad81c66",
   "metadata": {
    "tags": []
   },
   "outputs": [],
   "source": [
    "filtered_vehicles_df = vehicles_df[vehicles_df['Accident_Index'].isin(accidents_df['Accident_Index'])]"
   ]
  },
  {
   "cell_type": "code",
   "execution_count": 23,
   "id": "33f41b32-9909-4ca5-b6fc-6838077ab757",
   "metadata": {
    "tags": []
   },
   "outputs": [
    {
     "data": {
      "text/plain": [
       "(2058262, 24)"
      ]
     },
     "execution_count": 23,
     "metadata": {},
     "output_type": "execute_result"
    }
   ],
   "source": [
    "filtered_vehicles_df.shape"
   ]
  },
  {
   "cell_type": "code",
   "execution_count": 24,
   "id": "80d4b9bf-f8d4-4c0d-ba4b-0e7f9335e6fb",
   "metadata": {
    "tags": []
   },
   "outputs": [
    {
     "name": "stdout",
     "output_type": "stream",
     "text": [
      "Vehicle Data Year  { min: 2005 , max: 2016 }\n"
     ]
    }
   ],
   "source": [
    "print('Vehicle Data Year ','{ min:', filtered_vehicles_df['Year'].min(), ', max:', filtered_vehicles_df['Year'].max(), '}')"
   ]
  },
  {
   "cell_type": "markdown",
   "id": "fd13f54d-7f16-4953-8bf0-8d07cf807f51",
   "metadata": {},
   "source": [
    "### [Observation] We can see both data frames filter for the accidents that happened between 2005 to 2016 although originally these files have range from 2004 to 2017"
   ]
  },
  {
   "cell_type": "markdown",
   "id": "3cecbb05-56e1-48e7-85ec-957be42697d7",
   "metadata": {},
   "source": [
    "## 3. Prepare final dataframe for analysis"
   ]
  },
  {
   "cell_type": "code",
   "execution_count": 25,
   "id": "58e8666d-f4c1-47fa-9018-60ddacd4f755",
   "metadata": {
    "tags": []
   },
   "outputs": [
    {
     "data": {
      "text/html": [
       "<div>\n",
       "<style scoped>\n",
       "    .dataframe tbody tr th:only-of-type {\n",
       "        vertical-align: middle;\n",
       "    }\n",
       "\n",
       "    .dataframe tbody tr th {\n",
       "        vertical-align: top;\n",
       "    }\n",
       "\n",
       "    .dataframe thead th {\n",
       "        text-align: right;\n",
       "    }\n",
       "</style>\n",
       "<table border=\"1\" class=\"dataframe\">\n",
       "  <thead>\n",
       "    <tr style=\"text-align: right;\">\n",
       "      <th></th>\n",
       "      <th>Accident_Index</th>\n",
       "      <th>Age_Band_of_Driver</th>\n",
       "      <th>Age_of_Vehicle</th>\n",
       "      <th>Driver_Home_Area_Type</th>\n",
       "      <th>Driver_IMD_Decile</th>\n",
       "      <th>Engine_Capacity_.CC.</th>\n",
       "      <th>Hit_Object_in_Carriageway</th>\n",
       "      <th>Hit_Object_off_Carriageway</th>\n",
       "      <th>Journey_Purpose_of_Driver</th>\n",
       "      <th>Junction_Location</th>\n",
       "      <th>make</th>\n",
       "      <th>model</th>\n",
       "      <th>Propulsion_Code</th>\n",
       "      <th>Sex_of_Driver</th>\n",
       "      <th>Skidding_and_Overturning</th>\n",
       "      <th>Towing_and_Articulation</th>\n",
       "      <th>Vehicle_Leaving_Carriageway</th>\n",
       "      <th>Vehicle_Location.Restricted_Lane</th>\n",
       "      <th>Vehicle_Manoeuvre</th>\n",
       "      <th>Vehicle_Reference</th>\n",
       "      <th>Vehicle_Type</th>\n",
       "      <th>Was_Vehicle_Left_Hand_Drive</th>\n",
       "      <th>1st_Point_of_Impact</th>\n",
       "      <th>Year</th>\n",
       "    </tr>\n",
       "  </thead>\n",
       "  <tbody>\n",
       "    <tr>\n",
       "      <th>118797</th>\n",
       "      <td>200501BS00002</td>\n",
       "      <td>36 - 45</td>\n",
       "      <td>3.0</td>\n",
       "      <td>Data missing or out of range</td>\n",
       "      <td>NaN</td>\n",
       "      <td>8268.0</td>\n",
       "      <td>NaN</td>\n",
       "      <td>NaN</td>\n",
       "      <td>Journey as part of work</td>\n",
       "      <td>Leaving roundabout</td>\n",
       "      <td>DENNIS</td>\n",
       "      <td>NaN</td>\n",
       "      <td>Heavy oil</td>\n",
       "      <td>Male</td>\n",
       "      <td>NaN</td>\n",
       "      <td>No tow/articulation</td>\n",
       "      <td>Did not leave carriageway</td>\n",
       "      <td>0.0</td>\n",
       "      <td>Slowing or stopping</td>\n",
       "      <td>1</td>\n",
       "      <td>Bus or coach (17 or more pass seats)</td>\n",
       "      <td>No</td>\n",
       "      <td>Nearside</td>\n",
       "      <td>2005</td>\n",
       "    </tr>\n",
       "    <tr>\n",
       "      <th>118798</th>\n",
       "      <td>200501BS00003</td>\n",
       "      <td>26 - 35</td>\n",
       "      <td>5.0</td>\n",
       "      <td>Urban area</td>\n",
       "      <td>3.0</td>\n",
       "      <td>8300.0</td>\n",
       "      <td>Parked vehicle</td>\n",
       "      <td>NaN</td>\n",
       "      <td>Journey as part of work</td>\n",
       "      <td>Not at or within 20 metres of junction</td>\n",
       "      <td>DENNIS</td>\n",
       "      <td>NaN</td>\n",
       "      <td>Heavy oil</td>\n",
       "      <td>Male</td>\n",
       "      <td>NaN</td>\n",
       "      <td>No tow/articulation</td>\n",
       "      <td>Did not leave carriageway</td>\n",
       "      <td>0.0</td>\n",
       "      <td>Going ahead right-hand bend</td>\n",
       "      <td>1</td>\n",
       "      <td>Bus or coach (17 or more pass seats)</td>\n",
       "      <td>No</td>\n",
       "      <td>Nearside</td>\n",
       "      <td>2005</td>\n",
       "    </tr>\n",
       "    <tr>\n",
       "      <th>118799</th>\n",
       "      <td>200501BS00004</td>\n",
       "      <td>46 - 55</td>\n",
       "      <td>4.0</td>\n",
       "      <td>Urban area</td>\n",
       "      <td>1.0</td>\n",
       "      <td>1769.0</td>\n",
       "      <td>NaN</td>\n",
       "      <td>NaN</td>\n",
       "      <td>Other/Not known (2005-10)</td>\n",
       "      <td>Not at or within 20 metres of junction</td>\n",
       "      <td>NISSAN</td>\n",
       "      <td>ALMERA SE AUTO</td>\n",
       "      <td>Petrol</td>\n",
       "      <td>Female</td>\n",
       "      <td>NaN</td>\n",
       "      <td>No tow/articulation</td>\n",
       "      <td>Did not leave carriageway</td>\n",
       "      <td>0.0</td>\n",
       "      <td>Going ahead other</td>\n",
       "      <td>1</td>\n",
       "      <td>Car</td>\n",
       "      <td>No</td>\n",
       "      <td>Front</td>\n",
       "      <td>2005</td>\n",
       "    </tr>\n",
       "    <tr>\n",
       "      <th>118800</th>\n",
       "      <td>200501BS00005</td>\n",
       "      <td>46 - 55</td>\n",
       "      <td>10.0</td>\n",
       "      <td>Data missing or out of range</td>\n",
       "      <td>NaN</td>\n",
       "      <td>85.0</td>\n",
       "      <td>Kerb</td>\n",
       "      <td>NaN</td>\n",
       "      <td>Other/Not known (2005-10)</td>\n",
       "      <td>Not at or within 20 metres of junction</td>\n",
       "      <td>HONDA</td>\n",
       "      <td>NaN</td>\n",
       "      <td>Petrol</td>\n",
       "      <td>Male</td>\n",
       "      <td>Skidded</td>\n",
       "      <td>No tow/articulation</td>\n",
       "      <td>Did not leave carriageway</td>\n",
       "      <td>0.0</td>\n",
       "      <td>Going ahead other</td>\n",
       "      <td>1</td>\n",
       "      <td>Motorcycle 125cc and under</td>\n",
       "      <td>No</td>\n",
       "      <td>Front</td>\n",
       "      <td>2005</td>\n",
       "    </tr>\n",
       "    <tr>\n",
       "      <th>118801</th>\n",
       "      <td>200501BS00006</td>\n",
       "      <td>46 - 55</td>\n",
       "      <td>1.0</td>\n",
       "      <td>Urban area</td>\n",
       "      <td>4.0</td>\n",
       "      <td>2976.0</td>\n",
       "      <td>NaN</td>\n",
       "      <td>NaN</td>\n",
       "      <td>Other/Not known (2005-10)</td>\n",
       "      <td>Not at or within 20 metres of junction</td>\n",
       "      <td>AUDI</td>\n",
       "      <td>A4 SPORT CABRIOLET AUTO</td>\n",
       "      <td>Petrol</td>\n",
       "      <td>Male</td>\n",
       "      <td>NaN</td>\n",
       "      <td>No tow/articulation</td>\n",
       "      <td>Did not leave carriageway</td>\n",
       "      <td>0.0</td>\n",
       "      <td>Moving off</td>\n",
       "      <td>1</td>\n",
       "      <td>Car</td>\n",
       "      <td>No</td>\n",
       "      <td>Did not impact</td>\n",
       "      <td>2005</td>\n",
       "    </tr>\n",
       "  </tbody>\n",
       "</table>\n",
       "</div>"
      ],
      "text/plain": [
       "       Accident_Index Age_Band_of_Driver  Age_of_Vehicle         Driver_Home_Area_Type  Driver_IMD_Decile  Engine_Capacity_.CC. Hit_Object_in_Carriageway Hit_Object_off_Carriageway  Journey_Purpose_of_Driver                       Junction_Location    make                    model Propulsion_Code Sex_of_Driver Skidding_and_Overturning Towing_and_Articulation Vehicle_Leaving_Carriageway  Vehicle_Location.Restricted_Lane            Vehicle_Manoeuvre  Vehicle_Reference                          Vehicle_Type Was_Vehicle_Left_Hand_Drive 1st_Point_of_Impact  Year\n",
       "118797  200501BS00002            36 - 45             3.0  Data missing or out of range                NaN                8268.0                       NaN                        NaN    Journey as part of work                      Leaving roundabout  DENNIS                      NaN       Heavy oil          Male                      NaN     No tow/articulation   Did not leave carriageway                               0.0          Slowing or stopping                  1  Bus or coach (17 or more pass seats)                          No            Nearside  2005\n",
       "118798  200501BS00003            26 - 35             5.0                    Urban area                3.0                8300.0            Parked vehicle                        NaN    Journey as part of work  Not at or within 20 metres of junction  DENNIS                      NaN       Heavy oil          Male                      NaN     No tow/articulation   Did not leave carriageway                               0.0  Going ahead right-hand bend                  1  Bus or coach (17 or more pass seats)                          No            Nearside  2005\n",
       "118799  200501BS00004            46 - 55             4.0                    Urban area                1.0                1769.0                       NaN                        NaN  Other/Not known (2005-10)  Not at or within 20 metres of junction  NISSAN           ALMERA SE AUTO          Petrol        Female                      NaN     No tow/articulation   Did not leave carriageway                               0.0            Going ahead other                  1                                   Car                          No               Front  2005\n",
       "118800  200501BS00005            46 - 55            10.0  Data missing or out of range                NaN                  85.0                      Kerb                        NaN  Other/Not known (2005-10)  Not at or within 20 metres of junction   HONDA                      NaN          Petrol          Male                  Skidded     No tow/articulation   Did not leave carriageway                               0.0            Going ahead other                  1            Motorcycle 125cc and under                          No               Front  2005\n",
       "118801  200501BS00006            46 - 55             1.0                    Urban area                4.0                2976.0                       NaN                        NaN  Other/Not known (2005-10)  Not at or within 20 metres of junction    AUDI  A4 SPORT CABRIOLET AUTO          Petrol          Male                      NaN     No tow/articulation   Did not leave carriageway                               0.0                   Moving off                  1                                   Car                          No      Did not impact  2005"
      ]
     },
     "execution_count": 25,
     "metadata": {},
     "output_type": "execute_result"
    }
   ],
   "source": [
    "# Dropping duplicate Year_y column \n",
    "# del merged_df['Year_y']\n",
    "# Renaming YX1st_Point_of_Impact to 1st_Point_of_Impact\n",
    "filtered_vehicles_df = filtered_vehicles_df.rename(columns={'X1st_Point_of_Impact': '1st_Point_of_Impact'})\n",
    "filtered_vehicles_df.head()"
   ]
  },
  {
   "cell_type": "code",
   "execution_count": 26,
   "id": "b9f4382b-e88e-4004-8e34-0aa81b9eb90a",
   "metadata": {
    "tags": []
   },
   "outputs": [],
   "source": [
    "#filtered_vehicles_df[filtered_vehicles_df['Accident_Index'].duplicated()]"
   ]
  },
  {
   "cell_type": "code",
   "execution_count": 28,
   "id": "118e58f0-b52b-4856-ad0f-1a12435cfaec",
   "metadata": {
    "tags": []
   },
   "outputs": [],
   "source": [
    "filtered_accidents_df.loc[:,'Date'] = pd.to_datetime(filtered_accidents_df['Date'], format=\"%Y-%m-%d\")"
   ]
  },
  {
   "cell_type": "code",
   "execution_count": 29,
   "id": "cd1074a2-bc5c-434f-9849-45e75689bc34",
   "metadata": {
    "tags": []
   },
   "outputs": [],
   "source": [
    "# Function to find the time category\n",
    "def get_time_category(time_str):\n",
    "    # Convert the input time string to datetime object\n",
    "    time_obj = datetime.datetime.strptime(str(time_str), '%H:%M').time()\n",
    "\n",
    "    # Define time ranges\n",
    "    morning_rush_start = datetime.time(5, 0)\n",
    "    morning_rush_end = datetime.time(10, 0)\n",
    "    office_hours_start = datetime.time(10, 0)\n",
    "    office_hours_end = datetime.time(15, 0)\n",
    "    afternoon_rush_start = datetime.time(15, 0)\n",
    "    afternoon_rush_end = datetime.time(19, 0)\n",
    "    evening_start = datetime.time(19, 0)\n",
    "    evening_end = datetime.time(23, 0)\n",
    "    night_start = datetime.time(23, 0)\n",
    "    night_end = datetime.time(5, 0)\n",
    "\n",
    "    # Check the time category\n",
    "    if morning_rush_start <= time_obj <= morning_rush_end:\n",
    "        return 'Morning Rush'\n",
    "    elif office_hours_start <= time_obj <= office_hours_end:\n",
    "        return 'Office Hours'\n",
    "    elif afternoon_rush_start <= time_obj <= afternoon_rush_end:\n",
    "        return 'Afternoon Rush'\n",
    "    elif evening_start <= time_obj <= evening_end:\n",
    "        return 'Evening'\n",
    "    elif night_start <= time_obj or time_obj <= night_end:\n",
    "        return 'Night'\n",
    "    else:\n",
    "        return 'Invalid Time'\n",
    "\n",
    "# Example usage:\n",
    "#time_input = '00:30'\n",
    "#time_category = get_time_category(time_input)\n",
    "#print(f\"The time category for {time_input} is: {time_category}\")"
   ]
  },
  {
   "cell_type": "code",
   "execution_count": 30,
   "id": "c07ba4dc-4f3b-438e-a600-958c7a1fa421",
   "metadata": {
    "tags": []
   },
   "outputs": [
    {
     "name": "stderr",
     "output_type": "stream",
     "text": [
      "/var/folders/n3/cnsw2_q5653501p8bw3zft6h0000gp/T/ipykernel_9592/3380024585.py:2: SettingWithCopyWarning: \n",
      "A value is trying to be set on a copy of a slice from a DataFrame.\n",
      "Try using .loc[row_indexer,col_indexer] = value instead\n",
      "\n",
      "See the caveats in the documentation: https://pandas.pydata.org/pandas-docs/stable/user_guide/indexing.html#returning-a-view-versus-a-copy\n",
      "  filtered_accidents_df.loc[:, 'Time_Category'] = filtered_accidents_df['Time'].apply(get_time_category)\n"
     ]
    }
   ],
   "source": [
    "# Adding new time category column\n",
    "filtered_accidents_df.loc[:, 'Time_Category'] = filtered_accidents_df['Time'].apply(get_time_category)"
   ]
  },
  {
   "cell_type": "code",
   "execution_count": 31,
   "id": "0a792366-30d2-4f2e-adc6-b984474cea7b",
   "metadata": {
    "tags": []
   },
   "outputs": [
    {
     "name": "stdout",
     "output_type": "stream",
     "text": [
      "% of Missing Values in Accidents Data: 2.441 %\n"
     ]
    }
   ],
   "source": [
    "print('% of Missing Values in Accidents Data:', round(filtered_accidents_df.isna().sum().sum()/len(filtered_accidents_df),3), '%')"
   ]
  },
  {
   "cell_type": "code",
   "execution_count": 32,
   "id": "0496af6a-9e96-4382-8c4b-315f14228471",
   "metadata": {
    "tags": []
   },
   "outputs": [
    {
     "name": "stdout",
     "output_type": "stream",
     "text": [
      "% of Missing Values in Vehicles Data: 3.681 %\n"
     ]
    }
   ],
   "source": [
    "print('% of Missing Values in Vehicles Data:', round(filtered_vehicles_df.isna().sum().sum()/len(filtered_vehicles_df),3), '%')"
   ]
  },
  {
   "cell_type": "markdown",
   "id": "03695559-35d8-4273-9152-ee15d22ce460",
   "metadata": {},
   "source": [
    "### Not removing any NA values further"
   ]
  },
  {
   "cell_type": "code",
   "execution_count": 33,
   "id": "b5b84951-de01-4cad-b474-6a0e937c5a16",
   "metadata": {
    "tags": []
   },
   "outputs": [],
   "source": [
    "accidents_cleaned_file = 'Cleaned/Accident_Information_Cleaned.csv'\n",
    "vehicles_cleaned_file = 'Cleaned/Vehicle_Information_Cleaned.csv'"
   ]
  },
  {
   "cell_type": "code",
   "execution_count": 34,
   "id": "46d55df9-e285-42e4-8f6e-ef6a18822db5",
   "metadata": {
    "tags": []
   },
   "outputs": [],
   "source": [
    "filtered_accidents_df.to_csv(os.path.join(base_path, accidents_cleaned_file), index=False, quotechar='\"', quoting=csv.QUOTE_ALL)"
   ]
  },
  {
   "cell_type": "code",
   "execution_count": 35,
   "id": "364d7772-45ae-46d6-9433-a0425755c92d",
   "metadata": {
    "tags": []
   },
   "outputs": [],
   "source": [
    "filtered_vehicles_df.to_csv(os.path.join(base_path, vehicles_cleaned_file), index=False, quotechar='\"', quoting=csv.QUOTE_ALL)"
   ]
  },
  {
   "cell_type": "code",
   "execution_count": null,
   "id": "fdb2decb-b20f-453d-95e0-eb0d0fa4094e",
   "metadata": {},
   "outputs": [],
   "source": []
  }
 ],
 "metadata": {
  "kernelspec": {
   "display_name": "Python 3 (ipykernel)",
   "language": "python",
   "name": "python3"
  },
  "language_info": {
   "codemirror_mode": {
    "name": "ipython",
    "version": 3
   },
   "file_extension": ".py",
   "mimetype": "text/x-python",
   "name": "python",
   "nbconvert_exporter": "python",
   "pygments_lexer": "ipython3",
   "version": "3.11.5"
  }
 },
 "nbformat": 4,
 "nbformat_minor": 5
}
